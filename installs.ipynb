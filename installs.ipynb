{
 "cells": [
  {
   "cell_type": "code",
   "execution_count": 1,
   "outputs": [
    {
     "name": "stdout",
     "output_type": "stream",
     "text": [
      "Requirement already satisfied: matplotlib in /Users/prolap/opt/anaconda3/lib/python3.9/site-packages (3.5.1)\r\n",
      "Requirement already satisfied: cycler>=0.10 in /Users/prolap/opt/anaconda3/lib/python3.9/site-packages (from matplotlib) (0.11.0)\r\n",
      "Requirement already satisfied: kiwisolver>=1.0.1 in /Users/prolap/opt/anaconda3/lib/python3.9/site-packages (from matplotlib) (1.3.2)\r\n",
      "Requirement already satisfied: python-dateutil>=2.7 in /Users/prolap/opt/anaconda3/lib/python3.9/site-packages (from matplotlib) (2.8.2)\r\n",
      "Requirement already satisfied: packaging>=20.0 in /Users/prolap/opt/anaconda3/lib/python3.9/site-packages (from matplotlib) (21.3)\r\n",
      "Requirement already satisfied: pillow>=6.2.0 in /Users/prolap/opt/anaconda3/lib/python3.9/site-packages (from matplotlib) (9.0.1)\r\n",
      "Requirement already satisfied: pyparsing>=2.2.1 in /Users/prolap/opt/anaconda3/lib/python3.9/site-packages (from matplotlib) (3.0.4)\r\n",
      "Requirement already satisfied: numpy>=1.17 in /Users/prolap/opt/anaconda3/lib/python3.9/site-packages (from matplotlib) (1.21.5)\r\n",
      "Requirement already satisfied: fonttools>=4.22.0 in /Users/prolap/opt/anaconda3/lib/python3.9/site-packages (from matplotlib) (4.25.0)\r\n",
      "Requirement already satisfied: six>=1.5 in /Users/prolap/opt/anaconda3/lib/python3.9/site-packages (from python-dateutil>=2.7->matplotlib) (1.16.0)\r\n"
     ]
    }
   ],
   "source": [
    "!pip3 install matplotlib"
   ],
   "metadata": {
    "collapsed": false,
    "pycharm": {
     "name": "#%%\n"
    }
   }
  },
  {
   "cell_type": "code",
   "execution_count": 2,
   "outputs": [
    {
     "name": "stdout",
     "output_type": "stream",
     "text": [
      "Requirement already satisfied: pandas in /Users/prolap/opt/anaconda3/lib/python3.9/site-packages (1.4.2)\r\n",
      "Requirement already satisfied: bt in /Users/prolap/opt/anaconda3/lib/python3.9/site-packages (0.2.9)\r\n",
      "Requirement already satisfied: python-dateutil>=2.8.1 in /Users/prolap/opt/anaconda3/lib/python3.9/site-packages (from pandas) (2.8.2)\r\n",
      "Requirement already satisfied: pytz>=2020.1 in /Users/prolap/opt/anaconda3/lib/python3.9/site-packages (from pandas) (2021.3)\r\n",
      "Requirement already satisfied: numpy>=1.18.5 in /Users/prolap/opt/anaconda3/lib/python3.9/site-packages (from pandas) (1.21.5)\r\n",
      "Requirement already satisfied: ffn>=0.3.5 in /Users/prolap/opt/anaconda3/lib/python3.9/site-packages (from bt) (0.3.6)\r\n",
      "Requirement already satisfied: pyprind>=2.11 in /Users/prolap/opt/anaconda3/lib/python3.9/site-packages (from bt) (2.11.3)\r\n",
      "Requirement already satisfied: decorator>=4 in /Users/prolap/opt/anaconda3/lib/python3.9/site-packages (from ffn>=0.3.5->bt) (5.1.1)\r\n",
      "Requirement already satisfied: future>=0.15 in /Users/prolap/opt/anaconda3/lib/python3.9/site-packages (from ffn>=0.3.5->bt) (0.18.2)\r\n",
      "Requirement already satisfied: matplotlib>=1 in /Users/prolap/opt/anaconda3/lib/python3.9/site-packages (from ffn>=0.3.5->bt) (3.5.1)\r\n",
      "Requirement already satisfied: scipy>=0.15 in /Users/prolap/opt/anaconda3/lib/python3.9/site-packages (from ffn>=0.3.5->bt) (1.7.3)\r\n",
      "Requirement already satisfied: scikit-learn>=0.15 in /Users/prolap/opt/anaconda3/lib/python3.9/site-packages (from ffn>=0.3.5->bt) (1.0.2)\r\n",
      "Requirement already satisfied: tabulate>=0.7.5 in /Users/prolap/opt/anaconda3/lib/python3.9/site-packages (from ffn>=0.3.5->bt) (0.8.9)\r\n",
      "Requirement already satisfied: pandas-datareader>=0.2 in /Users/prolap/opt/anaconda3/lib/python3.9/site-packages (from ffn>=0.3.5->bt) (0.10.0)\r\n",
      "Requirement already satisfied: cycler>=0.10 in /Users/prolap/opt/anaconda3/lib/python3.9/site-packages (from matplotlib>=1->ffn>=0.3.5->bt) (0.11.0)\r\n",
      "Requirement already satisfied: fonttools>=4.22.0 in /Users/prolap/opt/anaconda3/lib/python3.9/site-packages (from matplotlib>=1->ffn>=0.3.5->bt) (4.25.0)\r\n",
      "Requirement already satisfied: packaging>=20.0 in /Users/prolap/opt/anaconda3/lib/python3.9/site-packages (from matplotlib>=1->ffn>=0.3.5->bt) (21.3)\r\n",
      "Requirement already satisfied: kiwisolver>=1.0.1 in /Users/prolap/opt/anaconda3/lib/python3.9/site-packages (from matplotlib>=1->ffn>=0.3.5->bt) (1.3.2)\r\n",
      "Requirement already satisfied: pyparsing>=2.2.1 in /Users/prolap/opt/anaconda3/lib/python3.9/site-packages (from matplotlib>=1->ffn>=0.3.5->bt) (3.0.4)\r\n",
      "Requirement already satisfied: pillow>=6.2.0 in /Users/prolap/opt/anaconda3/lib/python3.9/site-packages (from matplotlib>=1->ffn>=0.3.5->bt) (9.0.1)\r\n",
      "Requirement already satisfied: requests>=2.19.0 in /Users/prolap/opt/anaconda3/lib/python3.9/site-packages (from pandas-datareader>=0.2->ffn>=0.3.5->bt) (2.27.1)\r\n",
      "Requirement already satisfied: lxml in /Users/prolap/opt/anaconda3/lib/python3.9/site-packages (from pandas-datareader>=0.2->ffn>=0.3.5->bt) (4.8.0)\r\n",
      "Requirement already satisfied: six>=1.5 in /Users/prolap/opt/anaconda3/lib/python3.9/site-packages (from python-dateutil>=2.8.1->pandas) (1.16.0)\r\n",
      "Requirement already satisfied: certifi>=2017.4.17 in /Users/prolap/opt/anaconda3/lib/python3.9/site-packages (from requests>=2.19.0->pandas-datareader>=0.2->ffn>=0.3.5->bt) (2021.10.8)\r\n",
      "Requirement already satisfied: urllib3<1.27,>=1.21.1 in /Users/prolap/opt/anaconda3/lib/python3.9/site-packages (from requests>=2.19.0->pandas-datareader>=0.2->ffn>=0.3.5->bt) (1.26.9)\r\n",
      "Requirement already satisfied: idna<4,>=2.5 in /Users/prolap/opt/anaconda3/lib/python3.9/site-packages (from requests>=2.19.0->pandas-datareader>=0.2->ffn>=0.3.5->bt) (3.3)\r\n",
      "Requirement already satisfied: charset-normalizer~=2.0.0 in /Users/prolap/opt/anaconda3/lib/python3.9/site-packages (from requests>=2.19.0->pandas-datareader>=0.2->ffn>=0.3.5->bt) (2.0.4)\r\n",
      "Requirement already satisfied: joblib>=0.11 in /Users/prolap/opt/anaconda3/lib/python3.9/site-packages (from scikit-learn>=0.15->ffn>=0.3.5->bt) (1.1.0)\r\n",
      "Requirement already satisfied: threadpoolctl>=2.0.0 in /Users/prolap/opt/anaconda3/lib/python3.9/site-packages (from scikit-learn>=0.15->ffn>=0.3.5->bt) (2.2.0)\r\n"
     ]
    }
   ],
   "source": [
    "!pip3 install pandas bt"
   ],
   "metadata": {
    "collapsed": false,
    "pycharm": {
     "name": "#%%\n"
    }
   }
  },
  {
   "cell_type": "code",
   "execution_count": 3,
   "outputs": [
    {
     "name": "stdout",
     "output_type": "stream",
     "text": [
      "/Users/prolap/opt/anaconda3/bin/pip3\r\n"
     ]
    }
   ],
   "source": [
    "!which pip3"
   ],
   "metadata": {
    "collapsed": false,
    "pycharm": {
     "name": "#%%\n"
    }
   }
  },
  {
   "cell_type": "code",
   "execution_count": 4,
   "outputs": [
    {
     "name": "stdout",
     "output_type": "stream",
     "text": [
      "/Users/prolap/opt/anaconda3/bin/pip\r\n"
     ]
    }
   ],
   "source": [
    "!which pip"
   ],
   "metadata": {
    "collapsed": false,
    "pycharm": {
     "name": "#%%\n"
    }
   }
  },
  {
   "cell_type": "code",
   "execution_count": 5,
   "outputs": [
    {
     "name": "stdout",
     "output_type": "stream",
     "text": [
      "Requirement already satisfied: plotly in /Users/prolap/opt/anaconda3/lib/python3.9/site-packages (5.6.0)\r\n",
      "Requirement already satisfied: tenacity>=6.2.0 in /Users/prolap/opt/anaconda3/lib/python3.9/site-packages (from plotly) (8.0.1)\r\n",
      "Requirement already satisfied: six in /Users/prolap/opt/anaconda3/lib/python3.9/site-packages (from plotly) (1.16.0)\r\n"
     ]
    }
   ],
   "source": [
    "!pip install plotly"
   ],
   "metadata": {
    "collapsed": false,
    "pycharm": {
     "name": "#%%\n"
    }
   }
  },
  {
   "cell_type": "code",
   "execution_count": null,
   "outputs": [],
   "source": [],
   "metadata": {
    "collapsed": false,
    "pycharm": {
     "name": "#%%\n"
    }
   }
  }
 ],
 "metadata": {
  "kernelspec": {
   "display_name": "Python 3",
   "language": "python",
   "name": "python3"
  },
  "language_info": {
   "codemirror_mode": {
    "name": "ipython",
    "version": 2
   },
   "file_extension": ".py",
   "mimetype": "text/x-python",
   "name": "python",
   "nbconvert_exporter": "python",
   "pygments_lexer": "ipython2",
   "version": "2.7.6"
  }
 },
 "nbformat": 4,
 "nbformat_minor": 0
}